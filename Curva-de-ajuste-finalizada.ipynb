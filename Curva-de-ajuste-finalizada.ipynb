{
  "nbformat": 4,
  "nbformat_minor": 0,
  "metadata": {
    "colab": {
      "provenance": [],
      "include_colab_link": true
    },
    "kernelspec": {
      "name": "python3",
      "display_name": "Python 3"
    },
    "language_info": {
      "name": "python"
    }
  },
  "cells": [
    {
      "cell_type": "markdown",
      "metadata": {
        "id": "view-in-github",
        "colab_type": "text"
      },
      "source": [
        "<a href=\"https://colab.research.google.com/github/DyonGuy/Meus-c-digos/blob/main/Curva-de-ajuste-finalizada.ipynb\" target=\"_parent\"><img src=\"https://colab.research.google.com/assets/colab-badge.svg\" alt=\"Open In Colab\"/></a>"
      ]
    },
    {
      "cell_type": "code",
      "execution_count": null,
      "metadata": {
        "colab": {
          "base_uri": "https://localhost:8080/",
          "height": 1000
        },
        "id": "8NwadFM3j9vg",
        "outputId": "8728b699-c0e8-42a5-e89e-ae216f8d3bf5"
      },
      "outputs": [
        {
          "output_type": "display_data",
          "data": {
            "text/plain": [
              "<Figure size 720x576 with 1 Axes>"
            ],
            "image/png": "[encoded data removed]"
          },
          "metadata": {
            "needs_background": "light"
          }
        },
        {
          "output_type": "stream",
          "name": "stdout",
          "text": [
            "<class 'pandas.core.frame.DataFrame'>\n",
            "RangeIndex: 1700 entries, 0 to 1699\n",
            "Data columns (total 47 columns):\n",
            " #   Column                Non-Null Count  Dtype  \n",
            "---  ------                --------------  -----  \n",
            " 0   CID                   1700 non-null   object \n",
            " 1   IDSURVEY              1700 non-null   int64  \n",
            " 2   zHD                   1700 non-null   float64\n",
            " 3   zHDERR                1700 non-null   float64\n",
            " 4   zCMB                  1700 non-null   float64\n",
            " 5   zCMBERR               1700 non-null   float64\n",
            " 6   zHEL                  1700 non-null   float64\n",
            " 7   zHELERR               1700 non-null   float64\n",
            " 8   m_b_corr              1700 non-null   float64\n",
            " 9   m_b_corr_err_DIAG     1700 non-null   float64\n",
            " 10  MU_SH0ES              1700 non-null   float64\n",
            " 11  MU_SH0ES_ERR_DIAG     1700 non-null   float64\n",
            " 12  CEPH_DIST             1700 non-null   float64\n",
            " 13  IS_CALIBRATOR         1700 non-null   int64  \n",
            " 14  USED_IN_SH0ES_HF      1700 non-null   int64  \n",
            " 15  c                     1700 non-null   float64\n",
            " 16  cERR                  1700 non-null   float64\n",
            " 17  x1                    1700 non-null   float64\n",
            " 18  x1ERR                 1700 non-null   float64\n",
            " 19  mB                    1700 non-null   float64\n",
            " 20  mBERR                 1700 non-null   float64\n",
            " 21  x0                    1700 non-null   float64\n",
            " 22  x0ERR                 1700 non-null   float64\n",
            " 23  COV_x1_c              1700 non-null   float64\n",
            " 24  COV_x1_x0             1700 non-null   float64\n",
            " 25  COV_c_x0              1700 non-null   float64\n",
            " 26  RA                    1700 non-null   float64\n",
            " 27  DEC                   1700 non-null   float64\n",
            " 28  HOST_RA               1700 non-null   int64  \n",
            " 29  HOST_DEC              1700 non-null   int64  \n",
            " 30  HOST_ANGSEP           1700 non-null   float64\n",
            " 31  VPEC                  1700 non-null   float64\n",
            " 32  VPECERR               1700 non-null   int64  \n",
            " 33  MWEBV                 1700 non-null   float64\n",
            " 34  HOST_LOGMASS          1700 non-null   float64\n",
            " 35  HOST_LOGMASS_ERR      1700 non-null   float64\n",
            " 36  PKMJD                 1700 non-null   float64\n",
            " 37  PKMJDERR              1700 non-null   float64\n",
            " 38  NDOF                  1700 non-null   int64  \n",
            " 39  FITCHI2               1700 non-null   float64\n",
            " 40  FITPROB               1700 non-null   float64\n",
            " 41  m_b_corr_err_RAW      1700 non-null   float64\n",
            " 42  m_b_corr_err_VPEC     1700 non-null   float64\n",
            " 43  biasCor_m_b           1700 non-null   float64\n",
            " 44  biasCorErr_m_b        1700 non-null   float64\n",
            " 45  biasCor_m_b_COVSCALE  1700 non-null   float64\n",
            " 46  biasCor_m_b_COVADD    1700 non-null   float64\n",
            "dtypes: float64(39), int64(7), object(1)\n",
            "memory usage: 624.3+ KB\n",
            "[1.22000e-03 2.56000e-03 2.99000e-03 ... 1.80111e+00 1.91160e+00\n",
            " 2.26130e+00]\n",
            "[29.0559 30.7233 30.7449 ... 45.4865 45.4233 46.1828]\n"
          ]
        }
      ],
      "source": [
        "import urllib.request # Usar biblioteca Pandas para ler o arquivo como um DataFrame e pular a primeira linha com o cabeçalho\n",
        "import pandas as pd\n",
        "import matplotlib.pyplot as plt\n",
        "import numpy as np\n",
        "from scipy.optimize import curve_fit\n",
        "\n",
        "# 1) BAIXANDO O ARQUIVO\n",
        "\n",
        "url = \"https://raw.githubusercontent.com/PantheonPlusSH0ES/DataRelease/main/Pantheon%2B_Data/4_DISTANCES_AND_COVAR/Pantheon%2BSH0ES.dat\"\n",
        "filename = \"Pantheon+SH0ES.dat\"\n",
        "\n",
        "urllib.request.urlretrieve(url, filename)\n",
        "\n",
        "# 2) GERANDO O GRÁFICO COM OS DADOS DO CATÁLOGO PANTHEON+\n",
        "\n",
        "#primeira linha do arquivo contém o cabeçalho da tabela, com nomes de colunas e outros metadados, e não dados numéricos.\n",
        "df = pd.read_csv(filename, skiprows=2, delim_whitespace=True, names=['CID', 'IDSURVEY', 'zHD', 'zHDERR', 'zCMB', 'zCMBERR', 'zHEL', 'zHELERR', 'm_b_corr', 'm_b_corr_err_DIAG', 'MU_SH0ES', 'MU_SH0ES_ERR_DIAG', 'CEPH_DIST', 'IS_CALIBRATOR', 'USED_IN_SH0ES_HF', 'c', 'cERR', 'x1', 'x1ERR', 'mB', 'mBERR', 'x0', 'x0ERR', 'COV_x1_c', 'COV_x1_x0', 'COV_c_x0', 'RA', 'DEC', 'HOST_RA', 'HOST_DEC', 'HOST_ANGSEP', 'VPEC', 'VPECERR', 'MWEBV', 'HOST_LOGMASS', 'HOST_LOGMASS_ERR', 'PKMJD', 'PKMJDERR', 'NDOF', 'FITCHI2', 'FITPROB', 'm_b_corr_err_RAW', 'm_b_corr_err_VPEC', 'biasCor_m_b', 'biasCorErr_m_b', 'biasCor_m_b_COVSCALE', 'biasCor_m_b_COVADD'])\n",
        "# skiprows=1, especifica que o arquivo está separado por espaços em branco com o argumento delim_whitespace=True, e nomeia as colunas do DataFrame com o argumento names.\n",
        "\n",
        "plt.figure(figsize=(10, 8))\n",
        "plt.scatter(df[\"zCMB\"], df[\"MU_SH0ES\"])\n",
        "plt.xlabel(\"Redshift (z)\")\n",
        "plt.ylabel(\"Distance Modulus (Mpc)\")\n",
        "plt.show()\n",
        "df.info() #verificar se há algum valor nulo ou algum outro problema com os dados...\n",
        "\n",
        "print(df[\"zCMB\"].unique()) #Visualizando coluna z\n",
        "print(df[\"MU_SH0ES\"].unique()) #Visualizando coluna DM"
      ]
    },
    {
      "cell_type": "code",
      "source": [
        "!pip install -q condacolab\n",
        "import condacolab\n",
        "condacolab.install()\n",
        "!mamba install pyccl"
      ],
      "metadata": {
        "id": "U8pO3qGvk6sg",
        "colab": {
          "base_uri": "https://localhost:8080/"
        },
        "outputId": "dec20331-3bc3-451f-f7a9-334dcf4afafc"
      },
      "execution_count": null,
      "outputs": [
        {
          "output_type": "stream",
          "name": "stdout",
          "text": [
            "\u001b[33mWARNING: Running pip as the 'root' user can result in broken permissions and conflicting behaviour with the system package manager. It is recommended to use a virtual environment instead: https://pip.pypa.io/warnings/venv\u001b[0m\u001b[33m\n",
            "\u001b[0m✨🍰✨ Everything looks OK!\n",
            "\n",
            "                  __    __    __    __\n",
            "                 /  \\  /  \\  /  \\  /  \\\n",
            "                /    \\/    \\/    \\/    \\\n",
            "███████████████/  /██/  /██/  /██/  /████████████████████████\n",
            "              /  / \\   / \\   / \\   / \\  \\____\n",
            "             /  /   \\_/   \\_/   \\_/   \\    o \\__,\n",
            "            / _/                       \\_____/  `\n",
            "            |/\n",
            "        ███╗   ███╗ █████╗ ███╗   ███╗██████╗  █████╗\n",
            "        ████╗ ████║██╔══██╗████╗ ████║██╔══██╗██╔══██╗\n",
            "        ██╔████╔██║███████║██╔████╔██║██████╔╝███████║\n",
            "        ██║╚██╔╝██║██╔══██║██║╚██╔╝██║██╔══██╗██╔══██║\n",
            "        ██║ ╚═╝ ██║██║  ██║██║ ╚═╝ ██║██████╔╝██║  ██║\n",
            "        ╚═╝     ╚═╝╚═╝  ╚═╝╚═╝     ╚═╝╚═════╝ ╚═╝  ╚═╝\n",
            "\n",
            "        mamba (1.1.0) supported by @QuantStack\n",
            "\n",
            "        GitHub:  https://github.com/mamba-org/mamba\n",
            "        Twitter: https://twitter.com/QuantStack\n",
            "\n",
            "█████████████████████████████████████████████████████████████\n",
            "\n",
            "\n",
            "Looking for: ['pyccl']\n",
            "\n",
            "conda-forge/linux-64                                        Using cache\n",
            "conda-forge/noarch                                          Using cache\n",
            "\n",
            "Pinned packages:\n",
            "  - python 3.9.*\n",
            "  - python 3.9.*\n",
            "  - python_abi 3.9.* *cp39*\n",
            "  - cudatoolkit 11.8.*\n",
            "\n",
            "\n",
            "Transaction\n",
            "\n",
            "  Prefix: /usr/local\n",
            "\n",
            "  All requested packages already installed\n",
            "\n",
            "\u001b[?25l\u001b[2K\u001b[0G\u001b[?25h"
          ]
        }
      ]
    },
    {
      "cell_type": "code",
      "source": [
        "!apt-get install texlive texlive-xetex texlive-latex-extra pandoc"
      ],
      "metadata": {
        "colab": {
          "base_uri": "https://localhost:8080/"
        },
        "id": "sXTmcu0hyOrS",
        "outputId": "d4987930-e554-4197-cc47-bfc6b7e4cfa4"
      },
      "execution_count": null,
      "outputs": [
        {
          "output_type": "stream",
          "name": "stdout",
          "text": [
            "Reading package lists... Done\n",
            "Building dependency tree       \n",
            "Reading state information... Done\n",
            "pandoc is already the newest version (2.5-3build2).\n",
            "pandoc set to manually installed.\n",
            "The following additional packages will be installed:\n",
            "  dvisvgm fonts-droid-fallback fonts-lato fonts-lmodern fonts-noto-mono\n",
            "  fonts-texgyre fonts-urw-base35 javascript-common libapache-pom-java\n",
            "  libcommons-logging-java libcommons-parent-java libfontbox-java libgs9\n",
            "  libgs9-common libidn11 libijs-0.35 libjbig2dec0 libjs-jquery libkpathsea6\n",
            "  libpdfbox-java libptexenc1 libruby2.7 libsynctex2 libteckit0 libtexlua53\n",
            "  libtexluajit2 libzzip-0-13 lmodern poppler-data preview-latex-style rake\n",
            "  ruby ruby-minitest ruby-net-telnet ruby-power-assert ruby-test-unit\n",
            "  ruby-xmlrpc ruby2.7 rubygems-integration t1utils teckit tex-common tex-gyre\n",
            "  texlive-base texlive-binaries texlive-fonts-recommended texlive-latex-base\n",
            "  texlive-latex-recommended texlive-pictures texlive-plain-generic tipa\n",
            "  xfonts-encodings xfonts-utils\n",
            "Suggested packages:\n",
            "  fonts-noto fonts-freefont-otf | fonts-freefont-ttf apache2 | lighttpd\n",
            "  | httpd libavalon-framework-java libcommons-logging-java-doc\n",
            "  libexcalibur-logkit-java liblog4j1.2-java poppler-utils ghostscript\n",
            "  fonts-japanese-mincho | fonts-ipafont-mincho fonts-japanese-gothic\n",
            "  | fonts-ipafont-gothic fonts-arphic-ukai fonts-arphic-uming fonts-nanum ri\n",
            "  ruby-dev bundler debhelper gv | postscript-viewer perl-tk xpdf | pdf-viewer\n",
            "  xzdec texlive-fonts-recommended-doc texlive-latex-base-doc python3-pygments\n",
            "  icc-profiles libfile-which-perl libspreadsheet-parseexcel-perl\n",
            "  texlive-latex-extra-doc texlive-latex-recommended-doc texlive-luatex\n",
            "  texlive-pstricks dot2tex prerex ruby-tcltk | libtcltk-ruby\n",
            "  texlive-pictures-doc vprerex\n",
            "The following NEW packages will be installed:\n",
            "  dvisvgm fonts-droid-fallback fonts-lato fonts-lmodern fonts-noto-mono\n",
            "  fonts-texgyre fonts-urw-base35 javascript-common libapache-pom-java\n",
            "  libcommons-logging-java libcommons-parent-java libfontbox-java libgs9\n",
            "  libgs9-common libidn11 libijs-0.35 libjbig2dec0 libjs-jquery libkpathsea6\n",
            "  libpdfbox-java libptexenc1 libruby2.7 libsynctex2 libteckit0 libtexlua53\n",
            "  libtexluajit2 libzzip-0-13 lmodern poppler-data preview-latex-style rake\n",
            "  ruby ruby-minitest ruby-net-telnet ruby-power-assert ruby-test-unit\n",
            "  ruby-xmlrpc ruby2.7 rubygems-integration t1utils teckit tex-common tex-gyre\n",
            "  texlive texlive-base texlive-binaries texlive-fonts-recommended\n",
            "  texlive-latex-base texlive-latex-extra texlive-latex-recommended\n",
            "  texlive-pictures texlive-plain-generic texlive-xetex tipa xfonts-encodings\n",
            "  xfonts-utils\n",
            "0 upgraded, 56 newly installed, 0 to remove and 23 not upgraded.\n",
            "Need to get 169 MB of archives.\n",
            "After this operation, 536 MB of additional disk space will be used.\n",
            "Get:1 http://archive.ubuntu.com/ubuntu focal/main amd64 fonts-droid-fallback all 1:6.0.1r16-1.1 [1,805 kB]\n",
            "Get:2 http://archive.ubuntu.com/ubuntu focal/main amd64 fonts-lato all 2.0-2 [2,698 kB]\n",
            "Get:3 http://archive.ubuntu.com/ubuntu focal/main amd64 poppler-data all 0.4.9-2 [1,475 kB]\n",
            "Get:4 http://archive.ubuntu.com/ubuntu focal/universe amd64 tex-common all 6.13 [32.7 kB]\n",
            "Get:5 http://archive.ubuntu.com/ubuntu focal/main amd64 fonts-urw-base35 all 20170801.1-3 [6,333 kB]\n",
            "Get:6 http://archive.ubuntu.com/ubuntu focal-updates/main amd64 libgs9-common all 9.50~dfsg-5ubuntu4.6 [681 kB]\n",
            "Get:7 http://archive.ubuntu.com/ubuntu focal/main amd64 libidn11 amd64 1.33-2.2ubuntu2 [46.2 kB]\n",
            "Get:8 http://archive.ubuntu.com/ubuntu focal/main amd64 libijs-0.35 amd64 0.35-15 [15.7 kB]\n",
            "Get:9 http://archive.ubuntu.com/ubuntu focal/main amd64 libjbig2dec0 amd64 0.18-1ubuntu1 [60.0 kB]\n",
            "Get:10 http://archive.ubuntu.com/ubuntu focal-updates/main amd64 libgs9 amd64 9.50~dfsg-5ubuntu4.6 [2,173 kB]\n",
            "Get:11 http://archive.ubuntu.com/ubuntu focal/main amd64 libkpathsea6 amd64 2019.20190605.51237-3build2 [57.0 kB]\n",
            "Get:12 http://archive.ubuntu.com/ubuntu focal/universe amd64 dvisvgm amd64 2.8.1-1build1 [1,048 kB]\n",
            "Get:13 http://archive.ubuntu.com/ubuntu focal/universe amd64 fonts-lmodern all 2.004.5-6 [4,532 kB]\n",
            "Get:14 http://archive.ubuntu.com/ubuntu focal-updates/main amd64 fonts-noto-mono all 20200323-1build1~ubuntu20.04.1 [80.6 kB]\n",
            "Get:15 http://archive.ubuntu.com/ubuntu focal/universe amd64 fonts-texgyre all 20180621-3 [10.2 MB]\n",
            "Get:16 http://archive.ubuntu.com/ubuntu focal/main amd64 javascript-common all 11 [6,066 B]\n",
            "Get:17 http://archive.ubuntu.com/ubuntu focal/universe amd64 libapache-pom-java all 18-1 [4,720 B]\n",
            "Get:18 http://archive.ubuntu.com/ubuntu focal/universe amd64 libcommons-parent-java all 43-1 [10.8 kB]\n",
            "Get:19 http://archive.ubuntu.com/ubuntu focal/universe amd64 libcommons-logging-java all 1.2-2 [60.3 kB]\n",
            "Get:20 http://archive.ubuntu.com/ubuntu focal/main amd64 libjs-jquery all 3.3.1~dfsg-3 [329 kB]\n",
            "Get:21 http://archive.ubuntu.com/ubuntu focal/main amd64 libptexenc1 amd64 2019.20190605.51237-3build2 [35.5 kB]\n",
            "Get:22 http://archive.ubuntu.com/ubuntu focal/main amd64 rubygems-integration all 1.16 [5,092 B]\n",
            "Get:23 http://archive.ubuntu.com/ubuntu focal-updates/main amd64 ruby2.7 amd64 2.7.0-5ubuntu1.8 [95.6 kB]\n",
            "Get:24 http://archive.ubuntu.com/ubuntu focal/main amd64 ruby amd64 1:2.7+1 [5,412 B]\n",
            "Get:25 http://archive.ubuntu.com/ubuntu focal/main amd64 rake all 13.0.1-4 [61.6 kB]\n",
            "Get:26 http://archive.ubuntu.com/ubuntu focal/main amd64 ruby-minitest all 5.13.0-1 [40.9 kB]\n",
            "Get:27 http://archive.ubuntu.com/ubuntu focal/main amd64 ruby-net-telnet all 0.1.1-2 [12.6 kB]\n",
            "Get:28 http://archive.ubuntu.com/ubuntu focal/main amd64 ruby-power-assert all 1.1.7-1 [11.4 kB]\n",
            "Get:29 http://archive.ubuntu.com/ubuntu focal/main amd64 ruby-test-unit all 3.3.5-1 [73.2 kB]\n",
            "Get:30 http://archive.ubuntu.com/ubuntu focal/main amd64 ruby-xmlrpc all 0.3.0-2 [23.8 kB]\n",
            "Get:31 http://archive.ubuntu.com/ubuntu focal-updates/main amd64 libruby2.7 amd64 2.7.0-5ubuntu1.8 [3,532 kB]\n",
            "Get:32 http://archive.ubuntu.com/ubuntu focal/main amd64 libsynctex2 amd64 2019.20190605.51237-3build2 [55.0 kB]\n",
            "Get:33 http://archive.ubuntu.com/ubuntu focal/universe amd64 libteckit0 amd64 2.5.8+ds2-5ubuntu2 [320 kB]\n",
            "Get:34 http://archive.ubuntu.com/ubuntu focal/main amd64 libtexlua53 amd64 2019.20190605.51237-3build2 [105 kB]\n",
            "Get:35 http://archive.ubuntu.com/ubuntu focal/main amd64 libtexluajit2 amd64 2019.20190605.51237-3build2 [235 kB]\n",
            "Get:36 http://archive.ubuntu.com/ubuntu focal/universe amd64 libzzip-0-13 amd64 0.13.62-3.2ubuntu1 [26.2 kB]\n",
            "Get:37 http://archive.ubuntu.com/ubuntu focal/main amd64 xfonts-encodings all 1:1.0.5-0ubuntu1 [573 kB]\n",
            "Get:38 http://archive.ubuntu.com/ubuntu focal/main amd64 xfonts-utils amd64 1:7.7+6 [91.5 kB]\n",
            "Get:39 http://archive.ubuntu.com/ubuntu focal/universe amd64 lmodern all 2.004.5-6 [9,474 kB]\n",
            "35% [39 lmodern 7,708 kB/9,474 kB 81%]                        362 kB/s 5min 42s"
          ]
        }
      ]
    },
    {
      "cell_type": "code",
      "source": [
        "!apt-get install cm-super"
      ],
      "metadata": {
        "id": "RuTic__c1Ykq"
      },
      "execution_count": null,
      "outputs": []
    },
    {
      "cell_type": "code",
      "source": [
        "!apt-get install dvipng"
      ],
      "metadata": {
        "id": "dw_DumsS11m7"
      },
      "execution_count": null,
      "outputs": []
    },
    {
      "cell_type": "code",
      "source": [
        "import urllib.request # Usar biblioteca Pandas para ler o arquivo como um DataFrame e pular a primeira linha com o cabeçalho\n",
        "import pyccl as ccl\n",
        "import numpy as np\n",
        "import pandas as pd\n",
        "import matplotlib.pyplot as plt\n",
        "from scipy.optimize import curve_fit\n",
        "from matplotlib import rc\n",
        "\n",
        "url = \"https://raw.githubusercontent.com/PantheonPlusSH0ES/DataRelease/main/Pantheon%2B_Data/4_DISTANCES_AND_COVAR/Pantheon%2BSH0ES.dat\"\n",
        "filename = \"Pantheon+SH0ES.dat\"\n",
        "\n",
        "urllib.request.urlretrieve(url, filename)\n",
        "\n",
        "#Baixando dados da covariância\n",
        "url = \"https://raw.githubusercontent.com/PantheonPlusSH0ES/DataRelease/main/Pantheon%2B_Data/4_DISTANCES_AND_COVAR/Pantheon%2BSH0ES_STAT%2BSYS.cov\"\n",
        "filename = \"Pantheon+SH0ES_STAT+SYS.cov\"\n",
        "\n",
        "urllib.request.urlretrieve(url, filename)\n",
        "\n",
        "data = np.genfromtxt('Pantheon+SH0ES.dat', names=True)\n",
        "\n",
        "z = data['zCMB']\n",
        "\n",
        "mu = data['MU_SH0ES']\n",
        "\n",
        "cov = np.genfromtxt('Pantheon+SH0ES_STAT+SYS.cov', skip_header=1)\n",
        "cov = np.reshape(cov, (1701, 1701))\n",
        "\n",
        "print(np.shape(cov))\n",
        "\n",
        "plt.rcParams['text.usetex'] = True\n",
        "\n",
        "def mu_teorico(z, h, Om_c):\n",
        "\n",
        "    cosmo = ccl.Cosmology(Omega_c=Om_c, Omega_b=0.049411603, Omega_k=0, h=h, w0=-1, wa=0, sigma8=0.8120, n_s=0.9649)\n",
        "\n",
        "    a = 1. / (1. + z)\n",
        "\n",
        "    return ccl.distance_modulus(cosmo, a) \n",
        "\n",
        "#Ajuste da função de módulo da distância\n",
        "\n",
        "popt, pcov = curve_fit(mu_teorico, z, mu, sigma=cov, p0=[0.7, 0.3], bounds=([0., 0.], [1., 1.]), method='trf')\n",
        "\n",
        "p1 = popt[0] * 100\n",
        "p2 = popt[1] + 0.049411603\n",
        "\n",
        "Erro = np.sqrt(np.diag(pcov))\n",
        "\n",
        "e1 = Erro[0]\n",
        "e2 = Erro[1]\n",
        "\n",
        "# PLOTANDO O GRAFICO COM CURVA DE AJUSTE\n",
        "\n",
        "\n",
        "zi = np.linspace(min(z), max(z), 1000)\n",
        "\n",
        "plt.tick_params(labelsize=14, color='red')\n",
        "plt.xlabel(r'$z$', fontsize=16)\n",
        "plt.ylabel(r'$\\mu(z)$', fontsize=16)\n",
        "plt.errorbar(z, mu, np.sqrt(np.diag(cov)), fmt='s', label='Data points')\n",
        "plt.plot(zi, mu_teorico(zi, popt[0], popt[1]), color='red', label=r'$H_0$ = '+str(np.round(p1, 3))+' $\\pm$ '+str(np.round(e1, 3))+' ; '+'$\\Omega$ = '+str(np.round(p2, 3))+' $\\pm$ '+str(np.round(e2, 3)))\n",
        "plt.show()"
      ],
      "metadata": {
        "id": "9blmibWBmSD7",
        "colab": {
          "base_uri": "https://localhost:8080/",
          "height": 305
        },
        "outputId": "555966eb-e79e-4ad2-d3da-8c4e9d64a07e"
      },
      "execution_count": 32,
      "outputs": [
        {
          "output_type": "stream",
          "name": "stdout",
          "text": [
            "(1701, 1701)\n"
          ]
        },
        {
          "output_type": "display_data",
          "data": {
            "text/plain": [
              "<Figure size 432x288 with 1 Axes>"
            ],
            "image/png": "[encoded data removed]"
          },
          "metadata": {
            "needs_background": "light"
          }
        }
      ]
    }
  ]
}