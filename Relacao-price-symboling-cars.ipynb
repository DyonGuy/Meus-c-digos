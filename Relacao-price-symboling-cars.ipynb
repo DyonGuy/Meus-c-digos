{
  "nbformat": 4,
  "nbformat_minor": 0,
  "metadata": {
    "colab": {
      "provenance": [],
      "authorship_tag": "ABX9TyMCmPnSwc8DjOuMnlYDpi1Z",
      "include_colab_link": true
    },
    "kernelspec": {
      "name": "python3",
      "display_name": "Python 3"
    },
    "language_info": {
      "name": "python"
    }
  },
  "cells": [
    {
      "cell_type": "markdown",
      "metadata": {
        "id": "view-in-github",
        "colab_type": "text"
      },
      "source": [
        "<a href=\"https://colab.research.google.com/github/DyonGuy/Meus-c-digos/blob/main/Relacao-price-symboling-cars.ipynb\" target=\"_parent\"><img src=\"https://colab.research.google.com/assets/colab-badge.svg\" alt=\"Open In Colab\"/></a>"
      ]
    },
    {
      "cell_type": "code",
      "execution_count": 16,
      "metadata": {
        "colab": {
          "base_uri": "https://localhost:8080/",
          "height": 994
        },
        "id": "fUVOiLIgQT7B",
        "outputId": "971ddfd2-3ba1-419c-a652-a5662649224c"
      },
      "outputs": [
        {
          "output_type": "stream",
          "name": "stdout",
          "text": [
            "     symboling   nl         make fueltype aspiration numofdoors    bodystyle  \\\n",
            "0            3    ?  alfa-romero      gas        std        two  convertible   \n",
            "1            3    ?  alfa-romero      gas        std        two  convertible   \n",
            "2            1    ?  alfa-romero      gas        std        two    hatchback   \n",
            "3            2  164         audi      gas        std       four        sedan   \n",
            "4            2  164         audi      gas        std       four        sedan   \n",
            "..         ...  ...          ...      ...        ...        ...          ...   \n",
            "200         -1   95        volvo      gas        std       four        sedan   \n",
            "201         -1   95        volvo      gas      turbo       four        sedan   \n",
            "202         -1   95        volvo      gas        std       four        sedan   \n",
            "203         -1   95        volvo   diesel      turbo       four        sedan   \n",
            "204         -1   95        volvo      gas      turbo       four        sedan   \n",
            "\n",
            "    drivewheels enginelocation  wheelbase  ...  enginesize  fuelsystem  bore  \\\n",
            "0           rwd          front       88.6  ...         130        mpfi  3.47   \n",
            "1           rwd          front       88.6  ...         130        mpfi  3.47   \n",
            "2           rwd          front       94.5  ...         152        mpfi  2.68   \n",
            "3           fwd          front       99.8  ...         109        mpfi  3.19   \n",
            "4           4wd          front       99.4  ...         136        mpfi  3.19   \n",
            "..          ...            ...        ...  ...         ...         ...   ...   \n",
            "200         rwd          front      109.1  ...         141        mpfi  3.78   \n",
            "201         rwd          front      109.1  ...         141        mpfi  3.78   \n",
            "202         rwd          front      109.1  ...         173        mpfi  3.58   \n",
            "203         rwd          front      109.1  ...         145         idi  3.01   \n",
            "204         rwd          front      109.1  ...         141        mpfi  3.78   \n",
            "\n",
            "     stroke compressionratio horsepower  peakrpm citympg highwaympg  price  \n",
            "0      2.68              9.0        111     5000      21         27  13495  \n",
            "1      2.68              9.0        111     5000      21         27  16500  \n",
            "2      3.47              9.0        154     5000      19         26  16500  \n",
            "3      3.40             10.0        102     5500      24         30  13950  \n",
            "4      3.40              8.0        115     5500      18         22  17450  \n",
            "..      ...              ...        ...      ...     ...        ...    ...  \n",
            "200    3.15              9.5        114     5400      23         28  16845  \n",
            "201    3.15              8.7        160     5300      19         25  19045  \n",
            "202    2.87              8.8        134     5500      18         23  21485  \n",
            "203    3.40             23.0        106     4800      26         27  22470  \n",
            "204    3.15              9.5        114     5400      19         25  22625  \n",
            "\n",
            "[205 rows x 26 columns]\n"
          ]
        },
        {
          "output_type": "display_data",
          "data": {
            "text/plain": [
              "<Figure size 432x288 with 1 Axes>"
            ],
            "image/png": "[encoded data removed]"
          },
          "metadata": {
            "needs_background": "light"
          }
        }
      ],
      "source": [
        "import pandas as pd\n",
        "import matplotlib.pyplot as plt \n",
        "\n",
        "df = pd.read_csv(\"dados.data\", delimiter=',', header=None, names=['symboling', 'nl', 'make', 'fueltype', 'aspiration', 'numofdoors', 'bodystyle', 'drivewheels', 'enginelocation', 'wheelbase', 'lenght', 'width', 'height', 'curb', 'engine', 'numofcylinders', 'enginesize', 'fuelsystem', 'bore', 'stroke', 'compressionratio', 'horsepower', 'peakrpm', 'citympg', 'highwaympg', 'price']) #read csv using Pandas\n",
        "\n",
        "print(df)\n",
        "\n",
        "plt.scatter(df['price'], df['symboling'])\n",
        "plt.xlabel('Price')\n",
        "plt.ylabel('Symboling')\n",
        "plt.show()"
      ]
    },
    {
      "cell_type": "code",
      "source": [
        "import pandas as pd\n",
        "df = pd.read_csv('dados.data', delimiter=',', header=None, names=['symboling', 'nl', 'make', 'fueltype', 'aspiration', 'numofdoors', 'bodystyle', 'drivewheels', 'enginelocation', 'wheelbase', 'lenght', 'width', 'height', 'curb', 'engine', 'numofcylinders', 'enginesize', 'fuelsystem', 'bore', 'stroke', 'compressionratio', 'horsepower', 'peakrpm', 'citympg', 'highwaympg', 'price'])\n",
        "\n",
        "print(df)"
      ],
      "metadata": {
        "colab": {
          "base_uri": "https://localhost:8080/"
        },
        "id": "mmHuBZCjbRbq",
        "outputId": "ccd55e31-4fed-4d42-91c0-1d3b8aef5363"
      },
      "execution_count": 11,
      "outputs": [
        {
          "output_type": "stream",
          "name": "stdout",
          "text": [
            "     symboling   nl         make fueltype aspiration numofdoors    bodystyle  \\\n",
            "0            3    ?  alfa-romero      gas        std        two  convertible   \n",
            "1            3    ?  alfa-romero      gas        std        two  convertible   \n",
            "2            1    ?  alfa-romero      gas        std        two    hatchback   \n",
            "3            2  164         audi      gas        std       four        sedan   \n",
            "4            2  164         audi      gas        std       four        sedan   \n",
            "..         ...  ...          ...      ...        ...        ...          ...   \n",
            "200         -1   95        volvo      gas        std       four        sedan   \n",
            "201         -1   95        volvo      gas      turbo       four        sedan   \n",
            "202         -1   95        volvo      gas        std       four        sedan   \n",
            "203         -1   95        volvo   diesel      turbo       four        sedan   \n",
            "204         -1   95        volvo      gas      turbo       four        sedan   \n",
            "\n",
            "    drivewheels enginelocation  wheelbase  ...  enginesize  fuelsystem  bore  \\\n",
            "0           rwd          front       88.6  ...         130        mpfi  3.47   \n",
            "1           rwd          front       88.6  ...         130        mpfi  3.47   \n",
            "2           rwd          front       94.5  ...         152        mpfi  2.68   \n",
            "3           fwd          front       99.8  ...         109        mpfi  3.19   \n",
            "4           4wd          front       99.4  ...         136        mpfi  3.19   \n",
            "..          ...            ...        ...  ...         ...         ...   ...   \n",
            "200         rwd          front      109.1  ...         141        mpfi  3.78   \n",
            "201         rwd          front      109.1  ...         141        mpfi  3.78   \n",
            "202         rwd          front      109.1  ...         173        mpfi  3.58   \n",
            "203         rwd          front      109.1  ...         145         idi  3.01   \n",
            "204         rwd          front      109.1  ...         141        mpfi  3.78   \n",
            "\n",
            "     stroke compressionratio horsepower  peakrpm citympg highwaympg  price  \n",
            "0      2.68              9.0        111     5000      21         27  13495  \n",
            "1      2.68              9.0        111     5000      21         27  16500  \n",
            "2      3.47              9.0        154     5000      19         26  16500  \n",
            "3      3.40             10.0        102     5500      24         30  13950  \n",
            "4      3.40              8.0        115     5500      18         22  17450  \n",
            "..      ...              ...        ...      ...     ...        ...    ...  \n",
            "200    3.15              9.5        114     5400      23         28  16845  \n",
            "201    3.15              8.7        160     5300      19         25  19045  \n",
            "202    2.87              8.8        134     5500      18         23  21485  \n",
            "203    3.40             23.0        106     4800      26         27  22470  \n",
            "204    3.15              9.5        114     5400      19         25  22625  \n",
            "\n",
            "[205 rows x 26 columns]\n"
          ]
        }
      ]
    },
    {
      "cell_type": "code",
      "source": [
        "import pandas as pd\n",
        "df = pd.read_csv('dados.data', delimiter=',', header=None)\n",
        "\n",
        "print(df.columns)"
      ],
      "metadata": {
        "colab": {
          "base_uri": "https://localhost:8080/"
        },
        "id": "Tyhh23vXggrb",
        "outputId": "951b4d3b-3709-440a-c1c7-f2bad3ccab86"
      },
      "execution_count": 8,
      "outputs": [
        {
          "output_type": "stream",
          "name": "stdout",
          "text": [
            "Int64Index([ 0,  1,  2,  3,  4,  5,  6,  7,  8,  9, 10, 11, 12, 13, 14, 15, 16,\n",
            "            17, 18, 19, 20, 21, 22, 23, 24, 25],\n",
            "           dtype='int64')\n"
          ]
        }
      ]
    },
    {
      "cell_type": "code",
      "source": [
        "from google.colab import files\n",
        "uploaded = files.upload()\n"
      ],
      "metadata": {
        "colab": {
          "base_uri": "https://localhost:8080/",
          "height": 74
        },
        "id": "Xjone3uyZr4r",
        "outputId": "e40455de-1244-4f41-91ef-79daeff0e40a"
      },
      "execution_count": 4,
      "outputs": [
        {
          "output_type": "display_data",
          "data": {
            "text/plain": [
              "<IPython.core.display.HTML object>"
            ],
            "text/html": [
              "\n",
              "     <input type=\"file\" id=\"files-24943482-44fa-43a6-a9ad-fcc3f2f9b4c4\" name=\"files[]\" multiple disabled\n",
              "        style=\"border:none\" />\n",
              "     <output id=\"result-24943482-44fa-43a6-a9ad-fcc3f2f9b4c4\">\n",
              "      Upload widget is only available when the cell has been executed in the\n",
              "      current browser session. Please rerun this cell to enable.\n",
              "      </output>\n",
              "      <script>// Copyright 2017 Google LLC\n",
              "//\n",
              "// Licensed under the Apache License, Version 2.0 (the \"License\");\n",
              "// you may not use this file except in compliance with the License.\n",
              "// You may obtain a copy of the License at\n",
              "//\n",
              "//      http://www.apache.org/licenses/LICENSE-2.0\n",
              "//\n",
              "// Unless required by applicable law or agreed to in writing, software\n",
              "// distributed under the License is distributed on an \"AS IS\" BASIS,\n",
              "// WITHOUT WARRANTIES OR CONDITIONS OF ANY KIND, either express or implied.\n",
              "// See the License for the specific language governing permissions and\n",
              "// limitations under the License.\n",
              "\n",
              "/**\n",
              " * @fileoverview Helpers for google.colab Python module.\n",
              " */\n",
              "(function(scope) {\n",
              "function span(text, styleAttributes = {}) {\n",
              "  const element = document.createElement('span');\n",
              "  element.textContent = text;\n",
              "  for (const key of Object.keys(styleAttributes)) {\n",
              "    element.style[key] = styleAttributes[key];\n",
              "  }\n",
              "  return element;\n",
              "}\n",
              "\n",
              "// Max number of bytes which will be uploaded at a time.\n",
              "const MAX_PAYLOAD_SIZE = 100 * 1024;\n",
              "\n",
              "function _uploadFiles(inputId, outputId) {\n",
              "  const steps = uploadFilesStep(inputId, outputId);\n",
              "  const outputElement = document.getElementById(outputId);\n",
              "  // Cache steps on the outputElement to make it available for the next call\n",
              "  // to uploadFilesContinue from Python.\n",
              "  outputElement.steps = steps;\n",
              "\n",
              "  return _uploadFilesContinue(outputId);\n",
              "}\n",
              "\n",
              "// This is roughly an async generator (not supported in the browser yet),\n",
              "// where there are multiple asynchronous steps and the Python side is going\n",
              "// to poll for completion of each step.\n",
              "// This uses a Promise to block the python side on completion of each step,\n",
              "// then passes the result of the previous step as the input to the next step.\n",
              "function _uploadFilesContinue(outputId) {\n",
              "  const outputElement = document.getElementById(outputId);\n",
              "  const steps = outputElement.steps;\n",
              "\n",
              "  const next = steps.next(outputElement.lastPromiseValue);\n",
              "  return Promise.resolve(next.value.promise).then((value) => {\n",
              "    // Cache the last promise value to make it available to the next\n",
              "    // step of the generator.\n",
              "    outputElement.lastPromiseValue = value;\n",
              "    return next.value.response;\n",
              "  });\n",
              "}\n",
              "\n",
              "/**\n",
              " * Generator function which is called between each async step of the upload\n",
              " * process.\n",
              " * @param {string} inputId Element ID of the input file picker element.\n",
              " * @param {string} outputId Element ID of the output display.\n",
              " * @return {!Iterable<!Object>} Iterable of next steps.\n",
              " */\n",
              "function* uploadFilesStep(inputId, outputId) {\n",
              "  const inputElement = document.getElementById(inputId);\n",
              "  inputElement.disabled = false;\n",
              "\n",
              "  const outputElement = document.getElementById(outputId);\n",
              "  outputElement.innerHTML = '';\n",
              "\n",
              "  const pickedPromise = new Promise((resolve) => {\n",
              "    inputElement.addEventListener('change', (e) => {\n",
              "      resolve(e.target.files);\n",
              "    });\n",
              "  });\n",
              "\n",
              "  const cancel = document.createElement('button');\n",
              "  inputElement.parentElement.appendChild(cancel);\n",
              "  cancel.textContent = 'Cancel upload';\n",
              "  const cancelPromise = new Promise((resolve) => {\n",
              "    cancel.onclick = () => {\n",
              "      resolve(null);\n",
              "    };\n",
              "  });\n",
              "\n",
              "  // Wait for the user to pick the files.\n",
              "  const files = yield {\n",
              "    promise: Promise.race([pickedPromise, cancelPromise]),\n",
              "    response: {\n",
              "      action: 'starting',\n",
              "    }\n",
              "  };\n",
              "\n",
              "  cancel.remove();\n",
              "\n",
              "  // Disable the input element since further picks are not allowed.\n",
              "  inputElement.disabled = true;\n",
              "\n",
              "  if (!files) {\n",
              "    return {\n",
              "      response: {\n",
              "        action: 'complete',\n",
              "      }\n",
              "    };\n",
              "  }\n",
              "\n",
              "  for (const file of files) {\n",
              "    const li = document.createElement('li');\n",
              "    li.append(span(file.name, {fontWeight: 'bold'}));\n",
              "    li.append(span(\n",
              "        `(${file.type || 'n/a'}) - ${file.size} bytes, ` +\n",
              "        `last modified: ${\n",
              "            file.lastModifiedDate ? file.lastModifiedDate.toLocaleDateString() :\n",
              "                                    'n/a'} - `));\n",
              "    const percent = span('0% done');\n",
              "    li.appendChild(percent);\n",
              "\n",
              "    outputElement.appendChild(li);\n",
              "\n",
              "    const fileDataPromise = new Promise((resolve) => {\n",
              "      const reader = new FileReader();\n",
              "      reader.onload = (e) => {\n",
              "        resolve(e.target.result);\n",
              "      };\n",
              "      reader.readAsArrayBuffer(file);\n",
              "    });\n",
              "    // Wait for the data to be ready.\n",
              "    let fileData = yield {\n",
              "      promise: fileDataPromise,\n",
              "      response: {\n",
              "        action: 'continue',\n",
              "      }\n",
              "    };\n",
              "\n",
              "    // Use a chunked sending to avoid message size limits. See b/62115660.\n",
              "    let position = 0;\n",
              "    do {\n",
              "      const length = Math.min(fileData.byteLength - position, MAX_PAYLOAD_SIZE);\n",
              "      const chunk = new Uint8Array(fileData, position, length);\n",
              "      position += length;\n",
              "\n",
              "      const base64 = btoa(String.fromCharCode.apply(null, chunk));\n",
              "      yield {\n",
              "        response: {\n",
              "          action: 'append',\n",
              "          file: file.name,\n",
              "          data: base64,\n",
              "        },\n",
              "      };\n",
              "\n",
              "      let percentDone = fileData.byteLength === 0 ?\n",
              "          100 :\n",
              "          Math.round((position / fileData.byteLength) * 100);\n",
              "      percent.textContent = `${percentDone}% done`;\n",
              "\n",
              "    } while (position < fileData.byteLength);\n",
              "  }\n",
              "\n",
              "  // All done.\n",
              "  yield {\n",
              "    response: {\n",
              "      action: 'complete',\n",
              "    }\n",
              "  };\n",
              "}\n",
              "\n",
              "scope.google = scope.google || {};\n",
              "scope.google.colab = scope.google.colab || {};\n",
              "scope.google.colab._files = {\n",
              "  _uploadFiles,\n",
              "  _uploadFilesContinue,\n",
              "};\n",
              "})(self);\n",
              "</script> "
            ]
          },
          "metadata": {}
        },
        {
          "output_type": "stream",
          "name": "stdout",
          "text": [
            "Saving dados.data to dados (1).data\n"
          ]
        }
      ]
    }
  ]
}