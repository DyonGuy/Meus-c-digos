{
  "nbformat": 4,
  "nbformat_minor": 0,
  "metadata": {
    "colab": {
      "provenance": [],
      "authorship_tag": "ABX9TyO1dIRhTfJA47wcaYzYX7Z0",
      "include_colab_link": true
    },
    "kernelspec": {
      "name": "python3",
      "display_name": "Python 3"
    },
    "language_info": {
      "name": "python"
    }
  },
  "cells": [
    {
      "cell_type": "markdown",
      "metadata": {
        "id": "view-in-github",
        "colab_type": "text"
      },
      "source": [
        "<a href=\"https://colab.research.google.com/github/DyonGuy/Meus-c-digos/blob/main/Tentativa-curva-de-ajuste.ipynb\" target=\"_parent\"><img src=\"https://colab.research.google.com/assets/colab-badge.svg\" alt=\"Open In Colab\"/></a>"
      ]
    },
    {
      "cell_type": "code",
      "execution_count": null,
      "metadata": {
        "id": "SKvcS32tqlnH"
      },
      "outputs": [],
      "source": [
        "import urllib.request # Usar biblioteca Pandas para ler o arquivo como um DataFrame e pular a primeira linha com o cabeçalho\n",
        "import pandas as pd\n",
        "import matplotlib.pyplot as plt\n",
        "import numpy as np\n",
        "from scipy.optimize import curve_fit\n",
        "\n",
        "# 1) BAIXANDO O ARQUIVO\n",
        "\n",
        "url = \"https://raw.githubusercontent.com/PantheonPlusSH0ES/DataRelease/main/Pantheon%2B_Data/4_DISTANCES_AND_COVAR/Pantheon%2BSH0ES.dat\"\n",
        "filename = \"Pantheon+SH0ES.dat\"\n",
        "\n",
        "urllib.request.urlretrieve(url, filename)\n",
        "\n",
        "# 2) GERANDO O GRÁFICO COM OS DADOS DO CATÁLOGO PANTHEON+\n",
        "\n",
        "#primeira linha do arquivo contém o cabeçalho da tabela, com nomes de colunas e outros metadados, e não dados numéricos.\n",
        "df = pd.read_csv(filename, skiprows=2, delim_whitespace=True, names=['CID', 'IDSURVEY', 'zHD', 'zHDERR', 'zCMB', 'zCMBERR', 'zHEL', 'zHELERR', 'm_b_corr', 'm_b_corr_err_DIAG', 'MU_SH0ES', 'MU_SH0ES_ERR_DIAG', 'CEPH_DIST', 'IS_CALIBRATOR', 'USED_IN_SH0ES_HF', 'c', 'cERR', 'x1', 'x1ERR', 'mB', 'mBERR', 'x0', 'x0ERR', 'COV_x1_c', 'COV_x1_x0', 'COV_c_x0', 'RA', 'DEC', 'HOST_RA', 'HOST_DEC', 'HOST_ANGSEP', 'VPEC', 'VPECERR', 'MWEBV', 'HOST_LOGMASS', 'HOST_LOGMASS_ERR', 'PKMJD', 'PKMJDERR', 'NDOF', 'FITCHI2', 'FITPROB', 'm_b_corr_err_RAW', 'm_b_corr_err_VPEC', 'biasCor_m_b', 'biasCorErr_m_b', 'biasCor_m_b_COVSCALE', 'biasCor_m_b_COVADD'])\n",
        "# skiprows=1, especifica que o arquivo está separado por espaços em branco com o argumento delim_whitespace=True, e nomeia as colunas do DataFrame com o argumento names.\n",
        "\n",
        "plt.figure(figsize=(10, 8))\n",
        "plt.scatter(df[\"zCMB\"], df[\"MU_SH0ES\"])\n",
        "plt.xlabel(\"Redshift (z)\")\n",
        "plt.ylabel(\"Distance Modulus (Mpc)\")\n",
        "plt.show()\n",
        "df.info() #verificar se há algum valor nulo ou algum outro problema com os dados...\n",
        "\n",
        "print(df[\"zCMB\"].unique()) #Visualizando coluna z\n",
        "print(df[\"MU_SH0ES\"].unique()) #Visualizando coluna DM\n",
        "\n",
        "# 3) FAZENDO A CURVA DE AJUSTE:\n",
        "\n",
        "# Ajuste da curva polinomial aos dados\n",
        "z = df[\"zCMB\"]\n",
        "MU = df[\"MU_SH0ES\"]\n",
        "coefficients = np.polyfit(z, MU, deg=10)  # deg é o grau do polinômio\n",
        "\n",
        "# Plotagem do gráfico de dispersão e da curva ajustada\n",
        "plt.figure(figsize=(10, 8))\n",
        "plt.plot(z, MU, 'o')\n",
        "z_range = np.linspace(z.min(), z.max(), 1000)\n",
        "plt.plot(z_range, np.polyval(coefficients, z_range), 'r-')\n",
        "plt.xlabel(\"Redshift (z)\")\n",
        "plt.ylabel(\"Distance Modulus (Mpc)\")\n",
        "plt.xlim(-0.09, 1.0)\n",
        "plt.show()\n",
        "\n",
        "\n",
        "print(\"Parâmetros do polinômio de ajuste:\")\n",
        "for i in range(len(coefficients)):\n",
        "    print(f\"a_{i} = {coefficients[i]}\")"
      ]
    }
  ]
}